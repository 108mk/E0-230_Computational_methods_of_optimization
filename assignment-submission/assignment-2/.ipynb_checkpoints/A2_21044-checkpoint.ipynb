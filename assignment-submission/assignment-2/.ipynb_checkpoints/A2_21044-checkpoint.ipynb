{
 "cells": [
  {
   "cell_type": "code",
   "execution_count": 1,
   "id": "03fe361a",
   "metadata": {},
   "outputs": [
    {
     "name": "stdout",
     "output_type": "stream",
     "text": [
      "3.11.3\n"
     ]
    }
   ],
   "source": [
    "from platform import python_version\n",
    "print(python_version())"
   ]
  },
  {
   "cell_type": "code",
   "execution_count": 2,
   "id": "e07da1a9",
   "metadata": {},
   "outputs": [
    {
     "data": {
      "text/plain": [
       "['.DS_Store',\n",
       " 'a2',\n",
       " '21044.ipynb',\n",
       " 'A2_21044.ipynb',\n",
       " '.ipynb_checkpoints',\n",
       " 'CMO_A2',\n",
       " '.empty']"
      ]
     },
     "execution_count": 2,
     "metadata": {},
     "output_type": "execute_result"
    }
   ],
   "source": [
    "import os\n",
    "os.listdir()"
   ]
  },
  {
   "cell_type": "code",
   "execution_count": 3,
   "id": "3d6885ec",
   "metadata": {},
   "outputs": [],
   "source": [
    "import numpy\n",
    "import CMO_A2"
   ]
  },
  {
   "cell_type": "code",
   "execution_count": 4,
   "id": "84ef3b3b",
   "metadata": {},
   "outputs": [
    {
     "ename": "AttributeError",
     "evalue": "module 'CMO_A2' has no attribute 'oracle1'",
     "output_type": "error",
     "traceback": [
      "\u001b[0;31m---------------------------------------------------------------------------\u001b[0m",
      "\u001b[0;31mAttributeError\u001b[0m                            Traceback (most recent call last)",
      "Cell \u001b[0;32mIn[4], line 1\u001b[0m\n\u001b[0;32m----> 1\u001b[0m f_x \u001b[38;5;241m=\u001b[39m CMO_A2\u001b[38;5;241m.\u001b[39moracle1(\u001b[38;5;241m21044\u001b[39m, \u001b[38;5;241m0.1\u001b[39m)\n",
      "\u001b[0;31mAttributeError\u001b[0m: module 'CMO_A2' has no attribute 'oracle1'"
     ]
    }
   ],
   "source": [
    "f_x = CMO_A2.oracle1(21044, 0.1)\n",
    "print(f_x)"
   ]
  },
  {
   "cell_type": "code",
   "execution_count": null,
   "id": "765d3a2b",
   "metadata": {},
   "outputs": [],
   "source": []
  }
 ],
 "metadata": {
  "kernelspec": {
   "display_name": "Python 3 (ipykernel)",
   "language": "python",
   "name": "python3"
  },
  "language_info": {
   "codemirror_mode": {
    "name": "ipython",
    "version": 3
   },
   "file_extension": ".py",
   "mimetype": "text/x-python",
   "name": "python",
   "nbconvert_exporter": "python",
   "pygments_lexer": "ipython3",
   "version": "3.11.3"
  }
 },
 "nbformat": 4,
 "nbformat_minor": 5
}
