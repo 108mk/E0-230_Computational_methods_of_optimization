{
 "cells": [
  {
   "cell_type": "markdown",
   "id": "de13f49e",
   "metadata": {},
   "source": [
    "# Problem-1\n",
    "$\\bullet$ Part-1: Using the given oracle access, estimate the maximum and minimum eigenvalues of the Hessian of f(x); that is, find $λ_{max}(\\nabla^2f(x))$ and $λ_{min}(\\nabla^2f(x))$. Come up with a simple algorithm to find the largest and smallest eigenvalues of A."
   ]
  },
  {
   "cell_type": "code",
   "execution_count": null,
   "id": "4fc55fcf",
   "metadata": {},
   "outputs": [],
   "source": []
  },
  {
   "cell_type": "code",
   "execution_count": null,
   "id": "ee6471ac",
   "metadata": {},
   "outputs": [],
   "source": []
  },
  {
   "cell_type": "markdown",
   "id": "4bc9c4c8",
   "metadata": {},
   "source": [
    "$\\bullet$ Part-2:  \n"
   ]
  },
  {
   "cell_type": "markdown",
   "id": "54baa0e6",
   "metadata": {},
   "source": [
    "$\\bullet$ Part-3:"
   ]
  },
  {
   "cell_type": "code",
   "execution_count": null,
   "id": "6bd9147a",
   "metadata": {},
   "outputs": [],
   "source": []
  },
  {
   "cell_type": "markdown",
   "id": "f9aa655c",
   "metadata": {},
   "source": [
    "# Problem-2: Solution\n",
    "Given, $p(x,y)=x^4y^2+x^2y^4-9x^2y^2$\n",
    "\n",
    "To get critical point, we use the relation, $\\nabla p(x,y)=0$\n",
    "\n",
    "$\\nabla p(x,y)=\\begin{bmatrix}\n",
    "                   4x^3y^2+2xy^4-18xy^2 \\\\\n",
    "                   2x^2y4+4x^2y^3-18x^2y \\\\\n",
    "               \\end{bmatrix}$\n",
    "\n",
    "> We will find simultenous solution of $4x^3y^2+2xy^4-18xy^2=0$ and $2x^2y^4+4x^2y^3-18x^2y=0$,\n",
    "\n",
    "They simlipfy as, \n",
    "\n",
    "$4x^3y^2+2xy^4-18xy^2=2 x y^2 (-9 + 2 x^2 + y^2)=0$, and\n",
    "\n",
    "$2x^2y^4+4x^2y^3-18x^2y= 2 x^2 y (-9 + x^2 + 2 y^2)=0$\n",
    "\n",
    "> The simultenous solution of the above equations: $(x,y)=(0,c),\\ (c,0),\\ (\\sqrt{3},\\sqrt{3}),\\ (-\\sqrt{3},\\sqrt{3}),\\ (\\sqrt{3},-\\sqrt{3}),\\ (-\\sqrt{3},-\\sqrt{3})$\n",
    "\n",
    "To find minima among above critical points, we calculate Hessian of $p(x,y)$:\n",
    "\n",
    "$H[p(x,y)]= \\begin{bmatrix}\n",
    "               12 x^2 y^2+2 y^4 - 18 y^2 & 8 y x^3 + 8 y^3 x - 36 y x\\\\\n",
    "               8 y x^3 + 8 y^3 x - 36 y x & 2 x^4 + 12 y^2 x^2 - 18 x^2\n",
    "             \\end{bmatrix}\n",
    "$"
   ]
  },
  {
   "cell_type": "markdown",
   "id": "f33cad17",
   "metadata": {},
   "source": [
    "Value of Hessian at $x=[0,0]^T$ $\\implies$ $H[p(0,0)]=\n",
    "\\begin{bmatrix}\n",
    "0 & 0\\\\\n",
    "0 & 0\n",
    "\\end{bmatrix}$\n",
    "\n",
    "$\\bullet$ Hence, $x=[0,0]^T$ is a stationary point but not a (global) minima.\n",
    "\n",
    "Value of Hessian at $(\\sqrt{3},\\sqrt{3})$ $\\implies$ $H[p(\\sqrt{3},\\sqrt{3})]=\n",
    "\\begin{bmatrix}\n",
    "72 & -18\\\\\n",
    "-18 & 72\n",
    "\\end{bmatrix}$\n",
    "\n",
    "> Its eigenvalue is 54 and 90 (see below python script for eigenvalue estimation). Hence $H[p(\\sqrt{3},\\sqrt{3})]$ is psd. $\\implies$ it is local maxima.\n",
    "\n",
    "Value of Hessian at $(-\\sqrt{3},\\sqrt{3})$ $\\implies$ $H[p(-\\sqrt{3},\\sqrt{3})]=\n",
    "\\begin{bmatrix}\n",
    "72 & 18\\\\\n",
    "18 & 72\n",
    "\\end{bmatrix}$\n",
    "\n",
    "> Its eigenvalue is 54 and 90 (see below python script for eigenvalue estimation). Hence $H[p(\\sqrt{3},\\sqrt{3})]$ is psd. $\\implies$ it is local maxima.\n",
    "\n",
    "Value of Hessian at $(\\sqrt{3},-\\sqrt{3})$ $\\implies$ $H[(\\sqrt{3},-\\sqrt{3})]=\n",
    "\\begin{bmatrix}\n",
    "72 & 18\\\\\n",
    "18 & 72\n",
    "\\end{bmatrix}$\n",
    "\n",
    "> Its eigenvalue is 54 and 90 (see below python script for eigenvalue estimation). Hence $H[p(\\sqrt{3},\\sqrt{3})]$ is psd. $\\implies$ it is local maxima.\n",
    "\n",
    "Value of Hessian at $(-\\sqrt{3},-\\sqrt{3})$ $\\implies$ $H[p(-\\sqrt{3},-\\sqrt{3})]=\n",
    "\\begin{bmatrix}\n",
    "72 & -18\\\\\n",
    "-18 & 72\n",
    "\\end{bmatrix}$\n",
    "\n",
    "> Its eigenvalue is 54 and 90 (see below python script for eigenvalue estimation). Hence $H[p(\\sqrt{3},\\sqrt{3})]$ is psd. $\\implies$ it is local maxima.\n",
    "\n",
    "## Conclusion: \n",
    "$\\bullet$ Hence, $x=[0,0]^T$ is a stationary point but not a (global) minima.\n",
    "\n",
    "$\\bullet$ Global minima is not unique. There are four global minima. Because, $p(\\sqrt{3},\\sqrt{3})=p(-\\sqrt{3},\\sqrt{3})=p(\\sqrt{3},-\\sqrt{3})=p(-\\sqrt{3},-\\sqrt{3})$"
   ]
  },
  {
   "cell_type": "code",
   "execution_count": 2,
   "id": "69fd120e",
   "metadata": {},
   "outputs": [],
   "source": [
    "### Below code extimate eigenvalue of the Hessian at critical points\n",
    "import numpy as np"
   ]
  },
  {
   "cell_type": "code",
   "execution_count": 43,
   "id": "e5ae3cc6",
   "metadata": {},
   "outputs": [],
   "source": [
    "x=-np.sqrt(3)\n",
    "y=-np.sqrt(3)"
   ]
  },
  {
   "cell_type": "code",
   "execution_count": 44,
   "id": "36582cd5",
   "metadata": {},
   "outputs": [],
   "source": [
    "z11= 12*(x*x)*(y*y) + 2*y*y*y*y - 18*y*y \n",
    "z12= 8*(x*x)*(x*y) + 2*y*y*y*x - 36*y*x\n",
    "z21=z12\n",
    "z22= 2*(x*x)*(x*x) + 12*y*y*x*x - 18*x*x"
   ]
  },
  {
   "cell_type": "code",
   "execution_count": 45,
   "id": "1853bdb6",
   "metadata": {},
   "outputs": [
    {
     "name": "stdout",
     "output_type": "stream",
     "text": [
      "[[ 72. -18.]\n",
      " [-18.  72.]]\n"
     ]
    }
   ],
   "source": [
    "z=[[z11,z12],[z21,z22]]\n",
    "z=np.array(z)\n",
    "print(z)"
   ]
  },
  {
   "cell_type": "code",
   "execution_count": 42,
   "id": "6ba0231b",
   "metadata": {},
   "outputs": [
    {
     "data": {
      "text/plain": [
       "(array([54., 90.]),\n",
       " array([[-0.70710678, -0.70710678],\n",
       "        [ 0.70710678, -0.70710678]]))"
      ]
     },
     "execution_count": 42,
     "metadata": {},
     "output_type": "execute_result"
    }
   ],
   "source": [
    "np.linalg.eig(z)"
   ]
  },
  {
   "cell_type": "code",
   "execution_count": null,
   "id": "db356bbd",
   "metadata": {},
   "outputs": [],
   "source": []
  },
  {
   "cell_type": "markdown",
   "id": "77d1bc8f",
   "metadata": {},
   "source": [
    "# Problem-3: solution"
   ]
  },
  {
   "cell_type": "markdown",
   "id": "1fa1e249",
   "metadata": {},
   "source": [
    "Given, $f(x)=e^{x^TAx}\\frac{e^{-x^T(B+C)x}}{1+e^{-x^T(C-B)x}}$\n",
    "\n",
    "Equivalently, $f(x)=\\frac{e^{(x^TAx)-(x^T(B+C)x)}}{1+e^{-x^T(C-B)x}}= \\frac{e^{x^T(A-B-C)x}}{1+e^{-x^T(C-B)x}}$\n",
    "\n",
    "Coercivity requires: $\\lim_{(x^Tx)\\to\\infty} f(x)\\to\\infty$.\n",
    "\n",
    "Using first order Tylor approximation of exponential function implies-\n",
    "\n",
    "$\\frac{e^{x^T(A-B-C)x}}{1+e^{-x^T(C-B)x}} > \\frac{1+x^T(A-B-C)x}{1+1-x^T(C-B)x}$"
   ]
  },
  {
   "cell_type": "code",
   "execution_count": null,
   "id": "c37a3534",
   "metadata": {},
   "outputs": [],
   "source": []
  },
  {
   "cell_type": "code",
   "execution_count": null,
   "id": "885264cd",
   "metadata": {},
   "outputs": [],
   "source": []
  },
  {
   "cell_type": "markdown",
   "id": "bb839e91",
   "metadata": {},
   "source": [
    "# Problem-4: Solution\n",
    "## Part-I: Estimation of $w$ from 100 points"
   ]
  },
  {
   "cell_type": "code",
   "execution_count": 6,
   "id": "b32afdb6",
   "metadata": {},
   "outputs": [],
   "source": [
    "import os\n",
    "import subprocess"
   ]
  },
  {
   "cell_type": "code",
   "execution_count": 7,
   "id": "7778dd55",
   "metadata": {},
   "outputs": [
    {
     "data": {
      "text/plain": [
       "'/Users/manishkumar/Downloads'"
      ]
     },
     "execution_count": 7,
     "metadata": {},
     "output_type": "execute_result"
    }
   ],
   "source": [
    "os.getcwd()"
   ]
  },
  {
   "cell_type": "code",
   "execution_count": 8,
   "id": "2e5f6f6c",
   "metadata": {},
   "outputs": [],
   "source": [
    "#program = './mac_oracles/getDataPoints/getDataPoints'\n",
    "program = './pyfiles/dist/getDataPoints'\n",
    "argument = '21044'\n",
    "\n",
    "data_points = subprocess.run([program, argument],stdout=subprocess.PIPE).stdout.decode(\"utf-8\")\n"
   ]
  },
  {
   "cell_type": "code",
   "execution_count": 9,
   "id": "56471501",
   "metadata": {
    "collapsed": true
   },
   "outputs": [
    {
     "data": {
      "text/plain": [
       "'-0.865, [-0.367, 0.645, 0.389, -0.587, -0.481]\\n-0.730, [-0.488, 0.881, -0.134, -0.852, -0.416]\\n-1.592, [0.038, 0.303, 0.459, 0.243, 0.761]\\n-0.553, [0.557, -0.431, -0.931, -0.145, 0.384]\\n-0.567, [-0.362, 0.611, -0.384, -0.768, -0.371]\\n-1.161, [0.832, -0.099, -0.017, 0.159, 0.375]\\n-0.891, [-0.176, 0.315, 0.178, -0.162, -0.157]\\n-0.988, [0.458, 0.417, 0.514, -0.476, -0.502]\\n-1.700, [-0.162, 0.191, 0.807, 0.016, 0.887]\\n-1.570, [-0.396, 0.334, 0.72, -0.561, 0.791]\\n-0.380, [-0.051, -0.991, 0.454, -0.93, -0.211]\\n-0.708, [-0.087, -0.318, -0.431, -0.634, 0.512]\\n-0.902, [0.078, 0.408, -0.963, -0.745, 0.672]\\n-1.900, [0.562, 0.462, 0.439, 0.762, 0.933]\\n-0.973, [-0.355, 0.586, -0.609, 0.493, 0.348]\\n-0.467, [-0.732, 0.009, -0.648, 0.621, 0.023]\\n-0.239, [-0.707, 0.413, -0.419, 0.823, -0.923]\\n-0.107, [-0.096, -0.597, -0.181, -0.804, -0.525]\\n-0.222, [-0.809, -0.258, -0.225, -0.583, -0.316]\\n-0.897, [-0.067, 0.688, -0.013, -0.942, -0.199]\\n-0.446, [0.308, -0.947, -0.513, 0.662, 0.225]\\n-0.887, [0.397, -0.243, -0.955, -0.21, 0.935]\\n-0.701, [0.592, 0.607, -0.103, -0.706, -0.706]\\n-0.702, [-0.664, 0.067, 0.469, -0.016, -0.377]\\n-0.899, [-0.082, 0.838, 0.558, 0.53, -0.991]\\n-0.785, [-0.38, 0.583, -0.364, -0.811, 0.044]\\n-1.112, [0.412, -0.484, 0.547, 0.196, 0.297]\\n-0.698, [-0.907, 0.3, 0.939, 0.329, -0.895]\\n-0.586, [0.336, 0.026, 0.512, 0.112, -0.983]\\n-1.464, [0.663, 0.458, 0.757, 0.197, -0.045]\\n-1.420, [0.802, 0.142, 0.142, 0.249, 0.532]\\n-1.084, [-0.308, -0.043, 0.519, -0.902, 0.377]\\n-0.758, [-0.122, 0.992, -0.038, -0.367, -0.742]\\n-1.203, [0.809, 0.242, 0.163, -0.951, 0.241]\\n-1.310, [-0.881, 0.407, 0.829, -0.861, 0.407]\\n-0.931, [0.737, 0.075, 0.336, -0.228, -0.35]\\n-0.480, [0.322, 0.119, -0.076, 0.842, -0.908]\\n-0.199, [-0.198, -0.462, 0.354, -0.316, -0.917]\\n0.354, [0.199, -0.559, -0.891, -0.794, -0.955]\\n-0.342, [0.847, -0.899, 0.609, -0.85, -0.817]\\n-0.887, [0.329, 0.084, -0.386, -0.156, 0.26]\\n-1.153, [-0.557, -0.38, 0.664, -0.013, 0.595]\\n-0.345, [-0.952, -0.143, -0.184, -0.898, -0.107]\\n-1.015, [-0.752, 0.423, -0.18, 0.706, 0.33]\\n-1.069, [0.747, -0.435, 0.544, 0.489, 0.011]\\n-0.554, [-0.964, -0.043, -0.326, 0.833, 0.023]\\n-0.092, [0.6, -0.519, -0.746, -0.31, -0.517]\\n-1.045, [0.322, 0.606, -0.17, -0.546, 0.045]\\n-0.864, [0.821, 0.31, -0.803, -0.891, 0.305]\\n0.503, [-0.873, -0.781, -0.747, -0.988, -0.735]\\n-1.248, [0.693, 0.139, 0.591, 0.571, -0.136]\\n-1.062, [0.702, 0.25, -0.729, 0.0, 0.551]\\n-0.556, [-0.276, -0.78, 0.164, 0.666, -0.011]\\n-1.288, [-0.954, 0.618, 0.322, 0.4, 0.413]\\n-0.485, [0.355, -0.47, -0.296, -0.017, -0.144]\\n-0.042, [-0.985, -0.963, 0.428, -0.519, -0.548]\\n-0.340, [0.848, 0.625, -0.981, -0.723, -0.791]\\n-0.062, [0.046, -0.803, -0.862, 0.683, -0.22]\\n-0.428, [0.976, -0.665, 0.47, 0.138, -0.946]\\n-0.285, [-0.114, 0.201, -0.464, 0.791, -0.856]\\n-1.287, [0.9, 0.999, -0.697, 0.86, 0.141]\\n-0.284, [0.033, -0.418, -0.455, -0.254, -0.27]\\n-0.972, [-0.83, -0.516, 0.042, 0.996, 0.787]\\n-0.220, [-0.43, -0.767, 0.471, 0.242, -0.741]\\n-1.089, [-0.266, -0.11, -0.407, 0.195, 0.955]\\n-0.230, [-0.997, -0.195, 0.279, 0.62, -0.868]\\n-0.671, [0.675, -0.928, -0.391, 0.435, 0.425]\\n-0.948, [0.814, 0.624, -0.292, 0.393, -0.39]\\n-0.871, [0.982, -0.313, 0.439, 0.448, -0.442]\\n-0.164, [-0.826, 0.241, -0.868, 0.481, -0.48]\\n-1.057, [-0.191, -0.722, 0.672, -0.369, 0.603]\\n-0.900, [-0.285, 0.318, -0.857, 0.791, 0.536]\\n-1.122, [0.509, -0.017, -0.526, -0.258, 0.823]\\n-0.411, [-0.185, -0.687, -0.451, 0.953, 0.047]\\n-0.427, [-0.425, -0.417, -0.126, -0.418, -0.067]\\n-0.456, [0.152, -0.687, 0.084, -0.932, -0.098]\\n-0.990, [0.313, -0.026, -0.553, -0.599, 0.74]\\n-1.031, [0.596, 0.878, -0.077, -0.279, -0.407]\\n-0.544, [-0.772, -0.397, 0.27, 0.445, -0.19]\\n-0.286, [0.69, -0.487, 0.017, -0.11, -0.844]\\n-0.760, [-0.283, -0.724, 0.256, 0.454, 0.284]\\n-1.675, [0.448, 0.744, 0.923, -0.171, 0.129]\\n-0.845, [-0.869, -0.027, 0.527, -0.566, 0.078]\\n-0.824, [0.47, -0.231, -0.881, -0.983, 0.854]\\n-0.693, [0.43, 0.071, -0.554, 0.989, -0.18]\\n-0.752, [0.37, 0.123, 0.409, -0.717, -0.552]\\n-0.850, [0.426, 0.224, -0.542, -0.908, 0.294]\\n-0.774, [-0.841, -0.621, 0.557, -0.784, 0.41]\\n-1.009, [-0.532, -0.613, 0.941, 0.035, 0.283]\\n-1.065, [0.323, -0.49, -0.295, 0.856, 0.789]\\n-0.667, [-0.234, -0.438, 0.84, -0.778, -0.371]\\n-1.409, [-0.366, -0.275, 0.789, -0.534, 0.899]\\n-1.013, [-0.482, 0.905, -0.618, 0.784, 0.179]\\n-0.963, [0.696, -0.628, 0.627, -0.046, 0.011]\\n0.024, [-0.162, -0.983, -0.914, -0.142, 0.014]\\n-0.159, [-0.52, -0.126, 0.01, -0.388, -0.853]\\n-0.334, [-0.815, -0.325, -0.215, 0.915, -0.314]\\n-0.877, [0.059, 0.983, 0.557, -0.945, -0.949]\\n-0.691, [0.28, 0.999, -0.577, -0.837, -0.525]\\n-1.282, [-0.453, -0.637, 0.848, 0.902, 0.696]\\n'"
      ]
     },
     "execution_count": 9,
     "metadata": {},
     "output_type": "execute_result"
    }
   ],
   "source": [
    "data_points"
   ]
  },
  {
   "cell_type": "code",
   "execution_count": 13,
   "id": "4da251a6",
   "metadata": {},
   "outputs": [],
   "source": [
    "import numpy as np"
   ]
  },
  {
   "cell_type": "code",
   "execution_count": 25,
   "id": "f5cafb2c",
   "metadata": {
    "collapsed": true
   },
   "outputs": [
    {
     "data": {
      "text/plain": [
       "['-0.865, [-0.367, 0.645, 0.389, -0.587, -0.481]',\n",
       " '-0.730, [-0.488, 0.881, -0.134, -0.852, -0.416]',\n",
       " '-1.592, [0.038, 0.303, 0.459, 0.243, 0.761]',\n",
       " '-0.553, [0.557, -0.431, -0.931, -0.145, 0.384]',\n",
       " '-0.567, [-0.362, 0.611, -0.384, -0.768, -0.371]',\n",
       " '-1.161, [0.832, -0.099, -0.017, 0.159, 0.375]',\n",
       " '-0.891, [-0.176, 0.315, 0.178, -0.162, -0.157]',\n",
       " '-0.988, [0.458, 0.417, 0.514, -0.476, -0.502]',\n",
       " '-1.700, [-0.162, 0.191, 0.807, 0.016, 0.887]',\n",
       " '-1.570, [-0.396, 0.334, 0.72, -0.561, 0.791]',\n",
       " '-0.380, [-0.051, -0.991, 0.454, -0.93, -0.211]',\n",
       " '-0.708, [-0.087, -0.318, -0.431, -0.634, 0.512]',\n",
       " '-0.902, [0.078, 0.408, -0.963, -0.745, 0.672]',\n",
       " '-1.900, [0.562, 0.462, 0.439, 0.762, 0.933]',\n",
       " '-0.973, [-0.355, 0.586, -0.609, 0.493, 0.348]',\n",
       " '-0.467, [-0.732, 0.009, -0.648, 0.621, 0.023]',\n",
       " '-0.239, [-0.707, 0.413, -0.419, 0.823, -0.923]',\n",
       " '-0.107, [-0.096, -0.597, -0.181, -0.804, -0.525]',\n",
       " '-0.222, [-0.809, -0.258, -0.225, -0.583, -0.316]',\n",
       " '-0.897, [-0.067, 0.688, -0.013, -0.942, -0.199]',\n",
       " '-0.446, [0.308, -0.947, -0.513, 0.662, 0.225]',\n",
       " '-0.887, [0.397, -0.243, -0.955, -0.21, 0.935]',\n",
       " '-0.701, [0.592, 0.607, -0.103, -0.706, -0.706]',\n",
       " '-0.702, [-0.664, 0.067, 0.469, -0.016, -0.377]',\n",
       " '-0.899, [-0.082, 0.838, 0.558, 0.53, -0.991]',\n",
       " '-0.785, [-0.38, 0.583, -0.364, -0.811, 0.044]',\n",
       " '-1.112, [0.412, -0.484, 0.547, 0.196, 0.297]',\n",
       " '-0.698, [-0.907, 0.3, 0.939, 0.329, -0.895]',\n",
       " '-0.586, [0.336, 0.026, 0.512, 0.112, -0.983]',\n",
       " '-1.464, [0.663, 0.458, 0.757, 0.197, -0.045]',\n",
       " '-1.420, [0.802, 0.142, 0.142, 0.249, 0.532]',\n",
       " '-1.084, [-0.308, -0.043, 0.519, -0.902, 0.377]',\n",
       " '-0.758, [-0.122, 0.992, -0.038, -0.367, -0.742]',\n",
       " '-1.203, [0.809, 0.242, 0.163, -0.951, 0.241]',\n",
       " '-1.310, [-0.881, 0.407, 0.829, -0.861, 0.407]',\n",
       " '-0.931, [0.737, 0.075, 0.336, -0.228, -0.35]',\n",
       " '-0.480, [0.322, 0.119, -0.076, 0.842, -0.908]',\n",
       " '-0.199, [-0.198, -0.462, 0.354, -0.316, -0.917]',\n",
       " '0.354, [0.199, -0.559, -0.891, -0.794, -0.955]',\n",
       " '-0.342, [0.847, -0.899, 0.609, -0.85, -0.817]',\n",
       " '-0.887, [0.329, 0.084, -0.386, -0.156, 0.26]',\n",
       " '-1.153, [-0.557, -0.38, 0.664, -0.013, 0.595]',\n",
       " '-0.345, [-0.952, -0.143, -0.184, -0.898, -0.107]',\n",
       " '-1.015, [-0.752, 0.423, -0.18, 0.706, 0.33]',\n",
       " '-1.069, [0.747, -0.435, 0.544, 0.489, 0.011]',\n",
       " '-0.554, [-0.964, -0.043, -0.326, 0.833, 0.023]',\n",
       " '-0.092, [0.6, -0.519, -0.746, -0.31, -0.517]',\n",
       " '-1.045, [0.322, 0.606, -0.17, -0.546, 0.045]',\n",
       " '-0.864, [0.821, 0.31, -0.803, -0.891, 0.305]',\n",
       " '0.503, [-0.873, -0.781, -0.747, -0.988, -0.735]',\n",
       " '-1.248, [0.693, 0.139, 0.591, 0.571, -0.136]',\n",
       " '-1.062, [0.702, 0.25, -0.729, 0.0, 0.551]',\n",
       " '-0.556, [-0.276, -0.78, 0.164, 0.666, -0.011]',\n",
       " '-1.288, [-0.954, 0.618, 0.322, 0.4, 0.413]',\n",
       " '-0.485, [0.355, -0.47, -0.296, -0.017, -0.144]',\n",
       " '-0.042, [-0.985, -0.963, 0.428, -0.519, -0.548]',\n",
       " '-0.340, [0.848, 0.625, -0.981, -0.723, -0.791]',\n",
       " '-0.062, [0.046, -0.803, -0.862, 0.683, -0.22]',\n",
       " '-0.428, [0.976, -0.665, 0.47, 0.138, -0.946]',\n",
       " '-0.285, [-0.114, 0.201, -0.464, 0.791, -0.856]',\n",
       " '-1.287, [0.9, 0.999, -0.697, 0.86, 0.141]',\n",
       " '-0.284, [0.033, -0.418, -0.455, -0.254, -0.27]',\n",
       " '-0.972, [-0.83, -0.516, 0.042, 0.996, 0.787]',\n",
       " '-0.220, [-0.43, -0.767, 0.471, 0.242, -0.741]',\n",
       " '-1.089, [-0.266, -0.11, -0.407, 0.195, 0.955]',\n",
       " '-0.230, [-0.997, -0.195, 0.279, 0.62, -0.868]',\n",
       " '-0.671, [0.675, -0.928, -0.391, 0.435, 0.425]',\n",
       " '-0.948, [0.814, 0.624, -0.292, 0.393, -0.39]',\n",
       " '-0.871, [0.982, -0.313, 0.439, 0.448, -0.442]',\n",
       " '-0.164, [-0.826, 0.241, -0.868, 0.481, -0.48]',\n",
       " '-1.057, [-0.191, -0.722, 0.672, -0.369, 0.603]',\n",
       " '-0.900, [-0.285, 0.318, -0.857, 0.791, 0.536]',\n",
       " '-1.122, [0.509, -0.017, -0.526, -0.258, 0.823]',\n",
       " '-0.411, [-0.185, -0.687, -0.451, 0.953, 0.047]',\n",
       " '-0.427, [-0.425, -0.417, -0.126, -0.418, -0.067]',\n",
       " '-0.456, [0.152, -0.687, 0.084, -0.932, -0.098]',\n",
       " '-0.990, [0.313, -0.026, -0.553, -0.599, 0.74]',\n",
       " '-1.031, [0.596, 0.878, -0.077, -0.279, -0.407]',\n",
       " '-0.544, [-0.772, -0.397, 0.27, 0.445, -0.19]',\n",
       " '-0.286, [0.69, -0.487, 0.017, -0.11, -0.844]',\n",
       " '-0.760, [-0.283, -0.724, 0.256, 0.454, 0.284]',\n",
       " '-1.675, [0.448, 0.744, 0.923, -0.171, 0.129]',\n",
       " '-0.845, [-0.869, -0.027, 0.527, -0.566, 0.078]',\n",
       " '-0.824, [0.47, -0.231, -0.881, -0.983, 0.854]',\n",
       " '-0.693, [0.43, 0.071, -0.554, 0.989, -0.18]',\n",
       " '-0.752, [0.37, 0.123, 0.409, -0.717, -0.552]',\n",
       " '-0.850, [0.426, 0.224, -0.542, -0.908, 0.294]',\n",
       " '-0.774, [-0.841, -0.621, 0.557, -0.784, 0.41]',\n",
       " '-1.009, [-0.532, -0.613, 0.941, 0.035, 0.283]',\n",
       " '-1.065, [0.323, -0.49, -0.295, 0.856, 0.789]',\n",
       " '-0.667, [-0.234, -0.438, 0.84, -0.778, -0.371]',\n",
       " '-1.409, [-0.366, -0.275, 0.789, -0.534, 0.899]',\n",
       " '-1.013, [-0.482, 0.905, -0.618, 0.784, 0.179]',\n",
       " '-0.963, [0.696, -0.628, 0.627, -0.046, 0.011]',\n",
       " '0.024, [-0.162, -0.983, -0.914, -0.142, 0.014]',\n",
       " '-0.159, [-0.52, -0.126, 0.01, -0.388, -0.853]',\n",
       " '-0.334, [-0.815, -0.325, -0.215, 0.915, -0.314]',\n",
       " '-0.877, [0.059, 0.983, 0.557, -0.945, -0.949]',\n",
       " '-0.691, [0.28, 0.999, -0.577, -0.837, -0.525]',\n",
       " '-1.282, [-0.453, -0.637, 0.848, 0.902, 0.696]',\n",
       " '']"
      ]
     },
     "execution_count": 25,
     "metadata": {},
     "output_type": "execute_result"
    }
   ],
   "source": [
    "dt1=data_points.split('\\n')\n",
    "dt1"
   ]
  },
  {
   "cell_type": "code",
   "execution_count": 27,
   "id": "cfe94abb",
   "metadata": {},
   "outputs": [],
   "source": [
    "x= [[-0.367, 0.645, 0.389, -0.587, -0.481],\n",
    " [-0.488, 0.881, -0.134, -0.852, -0.416],\n",
    " [0.038, 0.303, 0.459, 0.243, 0.761],\n",
    " [0.557, -0.431, -0.931, -0.145, 0.384],\n",
    " [-0.362, 0.611, -0.384, -0.768, -0.371],\n",
    " [0.832, -0.099, -0.017, 0.159, 0.375],\n",
    " [-0.176, 0.315, 0.178, -0.162, -0.157],\n",
    " [0.458, 0.417, 0.514, -0.476, -0.502],\n",
    " [-0.162, 0.191, 0.807, 0.016, 0.887],\n",
    " [-0.396, 0.334, 0.72, -0.561, 0.791],\n",
    " [-0.051, -0.991, 0.454, -0.93, -0.211],\n",
    " [-0.087, -0.318, -0.431, -0.634, 0.512],\n",
    " [0.078, 0.408, -0.963, -0.745, 0.672],\n",
    " [0.562, 0.462, 0.439, 0.762, 0.933],\n",
    " [-0.355, 0.586, -0.609, 0.493, 0.348],\n",
    " [-0.732, 0.009, -0.648, 0.621, 0.023],\n",
    " [-0.707, 0.413, -0.419, 0.823, -0.923],\n",
    " [-0.096, -0.597, -0.181, -0.804, -0.525],\n",
    " [-0.809, -0.258, -0.225, -0.583, -0.316],\n",
    " [-0.067, 0.688, -0.013, -0.942, -0.199],\n",
    " [0.308, -0.947, -0.513, 0.662, 0.225],\n",
    " [0.397, -0.243, -0.955, -0.21, 0.935],\n",
    " [0.592, 0.607, -0.103, -0.706, -0.706],\n",
    " [-0.664, 0.067, 0.469, -0.016, -0.377],\n",
    " [-0.082, 0.838, 0.558, 0.53, -0.991],\n",
    " [-0.38, 0.583, -0.364, -0.811, 0.044],\n",
    " [0.412, -0.484, 0.547, 0.196, 0.297],\n",
    " [-0.907, 0.3, 0.939, 0.329, -0.895],\n",
    " [0.336, 0.026, 0.512, 0.112, -0.983],\n",
    " [0.663, 0.458, 0.757, 0.197, -0.045],\n",
    " [0.802, 0.142, 0.142, 0.249, 0.532],\n",
    " [-0.308, -0.043, 0.519, -0.902, 0.377],\n",
    " [-0.122, 0.992, -0.038, -0.367, -0.742],\n",
    " [0.809, 0.242, 0.163, -0.951, 0.241],\n",
    " [-0.881, 0.407, 0.829, -0.861, 0.407],\n",
    " [0.737, 0.075, 0.336, -0.228, -0.35],\n",
    " [0.322, 0.119, -0.076, 0.842, -0.908],\n",
    " [-0.198, -0.462, 0.354, -0.316, -0.917],\n",
    " [0.199, -0.559, -0.891, -0.794, -0.955],\n",
    " [0.847, -0.899, 0.609, -0.85, -0.817],\n",
    " [0.329, 0.084, -0.386, -0.156, 0.26]\n",
    " , [-0.557, -0.38, 0.664, -0.013, 0.595]\n",
    " , [-0.952, -0.143, -0.184, -0.898, -0.107]\n",
    " , [-0.752, 0.423, -0.18, 0.706, 0.33]\n",
    " , [0.747, -0.435, 0.544, 0.489, 0.011]\n",
    " , [-0.964, -0.043, -0.326, 0.833, 0.023]\n",
    " , [0.6, -0.519, -0.746, -0.31, -0.517]\n",
    " , [0.322, 0.606, -0.17, -0.546, 0.045]\n",
    ", [0.821, 0.31, -0.803, -0.891, 0.305]\n",
    " , [-0.873, -0.781, -0.747, -0.988, -0.735]\n",
    " , [0.693, 0.139, 0.591, 0.571, -0.136]\n",
    " , [0.702, 0.25, -0.729, 0.0, 0.551]\n",
    " , [-0.276, -0.78, 0.164, 0.666, -0.011]\n",
    " , [-0.954, 0.618, 0.322, 0.4, 0.413]\n",
    " , [0.355, -0.47, -0.296, -0.017, -0.144]\n",
    " , [-0.985, -0.963, 0.428, -0.519, -0.548]\n",
    " , [0.848, 0.625, -0.981, -0.723, -0.791]\n",
    " , [0.046, -0.803, -0.862, 0.683, -0.22]\n",
    " , [0.976, -0.665, 0.47, 0.138, -0.946]\n",
    " , [-0.114, 0.201, -0.464, 0.791, -0.856]\n",
    " , [0.9, 0.999, -0.697, 0.86, 0.141]\n",
    " , [0.033, -0.418, -0.455, -0.254, -0.27]\n",
    " , [-0.83, -0.516, 0.042, 0.996, 0.787]\n",
    " , [-0.43, -0.767, 0.471, 0.242, -0.741]\n",
    " , [-0.266, -0.11, -0.407, 0.195, 0.955]\n",
    " , [-0.997, -0.195, 0.279, 0.62, -0.868]\n",
    " , [0.675, -0.928, -0.391, 0.435, 0.425]\n",
    " , [0.814, 0.624, -0.292, 0.393, -0.39]\n",
    " , [0.982, -0.313, 0.439, 0.448, -0.442]\n",
    " , [-0.826, 0.241, -0.868, 0.481, -0.48]\n",
    " , [-0.191, -0.722, 0.672, -0.369, 0.603]\n",
    " , [-0.285, 0.318, -0.857, 0.791, 0.536]\n",
    " , [0.509, -0.017, -0.526, -0.258, 0.823]\n",
    " , [-0.185, -0.687, -0.451, 0.953, 0.047]\n",
    " , [-0.425, -0.417, -0.126, -0.418, -0.067]\n",
    " , [0.152, -0.687, 0.084, -0.932, -0.098]\n",
    " , [0.313, -0.026, -0.553, -0.599, 0.74]\n",
    " , [0.596, 0.878, -0.077, -0.279, -0.407]\n",
    " , [-0.772, -0.397, 0.27, 0.445, -0.19]\n",
    " , [0.69, -0.487, 0.017, -0.11, -0.844]\n",
    " , [-0.283, -0.724, 0.256, 0.454, 0.284]\n",
    " , [0.448, 0.744, 0.923, -0.171, 0.129]\n",
    " , [-0.869, -0.027, 0.527, -0.566, 0.078]\n",
    " , [0.47, -0.231, -0.881, -0.983, 0.854]\n",
    " , [0.43, 0.071, -0.554, 0.989, -0.18]\n",
    " , [0.37, 0.123, 0.409, -0.717, -0.552]\n",
    ", [0.426, 0.224, -0.542, -0.908, 0.294]\n",
    " , [-0.841, -0.621, 0.557, -0.784, 0.41]\n",
    " , [-0.532, -0.613, 0.941, 0.035, 0.283]\n",
    ", [0.323, -0.49, -0.295, 0.856, 0.789]\n",
    " , [-0.234, -0.438, 0.84, -0.778, -0.371]\n",
    ", [-0.366, -0.275, 0.789, -0.534, 0.899]\n",
    " , [-0.482, 0.905, -0.618, 0.784, 0.179]\n",
    ", [0.696, -0.628, 0.627, -0.046, 0.011]\n",
    " , [-0.162, -0.983, -0.914, -0.142, 0.014]\n",
    ", [-0.52, -0.126, 0.01, -0.388, -0.853]\n",
    " , [-0.815, -0.325, -0.215, 0.915, -0.314]\n",
    " , [0.059, 0.983, 0.557, -0.945, -0.949]\n",
    " , [0.28, 0.999, -0.577, -0.837, -0.525]\n",
    " , [-0.453, -0.637, 0.848, 0.902, 0.696]]"
   ]
  },
  {
   "cell_type": "code",
   "execution_count": 28,
   "id": "f4f09b1a",
   "metadata": {},
   "outputs": [],
   "source": [
    "y= [-0.865, \n",
    " -0.730, \n",
    " -1.592, \n",
    " -0.553, \n",
    " -0.567, \n",
    " -1.161, \n",
    " -0.891, \n",
    " -0.988, \n",
    " -1.700, \n",
    " -1.570, \n",
    " -0.380, \n",
    " -0.708, \n",
    " -0.902, \n",
    " -1.900, \n",
    " -0.973, \n",
    " -0.467, \n",
    " -0.239, \n",
    " -0.107, \n",
    " -0.222, \n",
    " -0.897, \n",
    " -0.446, \n",
    " -0.887, \n",
    " -0.701, \n",
    " -0.702, \n",
    " -0.899, \n",
    " -0.785,\n",
    " -1.112, \n",
    " -0.698,\n",
    " -0.586, \n",
    " -1.464, \n",
    " -1.420, \n",
    " -1.084, \n",
    " -0.758, \n",
    " -1.203, \n",
    " -1.310, \n",
    " -0.931, \n",
    " -0.480, \n",
    " -0.199, \n",
    " 0.354,\n",
    " -0.342,\n",
    " -0.887,\n",
    " -1.153, \n",
    " -0.345,\n",
    " -1.015,\n",
    " -1.069, \n",
    " -0.554, \n",
    " -0.092, \n",
    " -1.045, \n",
    " -0.864, \n",
    " 0.503, \n",
    " -1.248,\n",
    " -1.062, \n",
    " -0.556, \n",
    " -1.288,\n",
    " -0.485, \n",
    " -0.042,\n",
    " -0.340, \n",
    " -0.062, \n",
    " -0.428, \n",
    " -0.285, \n",
    " -1.287, \n",
    " -0.284, \n",
    " -0.972, \n",
    " -0.220, \n",
    " -1.089, \n",
    " -0.230, \n",
    " -0.671, \n",
    " -0.948, \n",
    " -0.871,\n",
    " -0.164, \n",
    " -1.057, \n",
    " -0.900,\n",
    " -1.122, \n",
    " -0.411, \n",
    " -0.427, \n",
    " -0.456, \n",
    " -0.990, \n",
    " -1.031, \n",
    " -0.544,\n",
    " -0.286, \n",
    " -0.760, \n",
    " -1.675, \n",
    " -0.845, \n",
    " -0.824, \n",
    " -0.693, \n",
    " -0.752, \n",
    " -0.850, \n",
    " -0.774,\n",
    " -1.009,\n",
    " -1.065,\n",
    " -0.667,\n",
    " -1.409,\n",
    " -1.013,\n",
    " -0.963,\n",
    " 0.024,\n",
    " -0.159,\n",
    " -0.334,\n",
    " -0.877,\n",
    " -0.691 ,\n",
    " -1.282]"
   ]
  },
  {
   "cell_type": "code",
   "execution_count": 34,
   "id": "6c8e6602",
   "metadata": {},
   "outputs": [],
   "source": [
    "from sklearn import linear_model"
   ]
  },
  {
   "cell_type": "code",
   "execution_count": 36,
   "id": "e0215e70",
   "metadata": {},
   "outputs": [],
   "source": [
    "regr = linear_model.LinearRegression()"
   ]
  },
  {
   "cell_type": "code",
   "execution_count": 37,
   "id": "14dcb619",
   "metadata": {
    "scrolled": true
   },
   "outputs": [
    {
     "data": {
      "text/html": [
       "<style>#sk-container-id-1 {color: black;background-color: white;}#sk-container-id-1 pre{padding: 0;}#sk-container-id-1 div.sk-toggleable {background-color: white;}#sk-container-id-1 label.sk-toggleable__label {cursor: pointer;display: block;width: 100%;margin-bottom: 0;padding: 0.3em;box-sizing: border-box;text-align: center;}#sk-container-id-1 label.sk-toggleable__label-arrow:before {content: \"▸\";float: left;margin-right: 0.25em;color: #696969;}#sk-container-id-1 label.sk-toggleable__label-arrow:hover:before {color: black;}#sk-container-id-1 div.sk-estimator:hover label.sk-toggleable__label-arrow:before {color: black;}#sk-container-id-1 div.sk-toggleable__content {max-height: 0;max-width: 0;overflow: hidden;text-align: left;background-color: #f0f8ff;}#sk-container-id-1 div.sk-toggleable__content pre {margin: 0.2em;color: black;border-radius: 0.25em;background-color: #f0f8ff;}#sk-container-id-1 input.sk-toggleable__control:checked~div.sk-toggleable__content {max-height: 200px;max-width: 100%;overflow: auto;}#sk-container-id-1 input.sk-toggleable__control:checked~label.sk-toggleable__label-arrow:before {content: \"▾\";}#sk-container-id-1 div.sk-estimator input.sk-toggleable__control:checked~label.sk-toggleable__label {background-color: #d4ebff;}#sk-container-id-1 div.sk-label input.sk-toggleable__control:checked~label.sk-toggleable__label {background-color: #d4ebff;}#sk-container-id-1 input.sk-hidden--visually {border: 0;clip: rect(1px 1px 1px 1px);clip: rect(1px, 1px, 1px, 1px);height: 1px;margin: -1px;overflow: hidden;padding: 0;position: absolute;width: 1px;}#sk-container-id-1 div.sk-estimator {font-family: monospace;background-color: #f0f8ff;border: 1px dotted black;border-radius: 0.25em;box-sizing: border-box;margin-bottom: 0.5em;}#sk-container-id-1 div.sk-estimator:hover {background-color: #d4ebff;}#sk-container-id-1 div.sk-parallel-item::after {content: \"\";width: 100%;border-bottom: 1px solid gray;flex-grow: 1;}#sk-container-id-1 div.sk-label:hover label.sk-toggleable__label {background-color: #d4ebff;}#sk-container-id-1 div.sk-serial::before {content: \"\";position: absolute;border-left: 1px solid gray;box-sizing: border-box;top: 0;bottom: 0;left: 50%;z-index: 0;}#sk-container-id-1 div.sk-serial {display: flex;flex-direction: column;align-items: center;background-color: white;padding-right: 0.2em;padding-left: 0.2em;position: relative;}#sk-container-id-1 div.sk-item {position: relative;z-index: 1;}#sk-container-id-1 div.sk-parallel {display: flex;align-items: stretch;justify-content: center;background-color: white;position: relative;}#sk-container-id-1 div.sk-item::before, #sk-container-id-1 div.sk-parallel-item::before {content: \"\";position: absolute;border-left: 1px solid gray;box-sizing: border-box;top: 0;bottom: 0;left: 50%;z-index: -1;}#sk-container-id-1 div.sk-parallel-item {display: flex;flex-direction: column;z-index: 1;position: relative;background-color: white;}#sk-container-id-1 div.sk-parallel-item:first-child::after {align-self: flex-end;width: 50%;}#sk-container-id-1 div.sk-parallel-item:last-child::after {align-self: flex-start;width: 50%;}#sk-container-id-1 div.sk-parallel-item:only-child::after {width: 0;}#sk-container-id-1 div.sk-dashed-wrapped {border: 1px dashed gray;margin: 0 0.4em 0.5em 0.4em;box-sizing: border-box;padding-bottom: 0.4em;background-color: white;}#sk-container-id-1 div.sk-label label {font-family: monospace;font-weight: bold;display: inline-block;line-height: 1.2em;}#sk-container-id-1 div.sk-label-container {text-align: center;}#sk-container-id-1 div.sk-container {/* jupyter's `normalize.less` sets `[hidden] { display: none; }` but bootstrap.min.css set `[hidden] { display: none !important; }` so we also need the `!important` here to be able to override the default hidden behavior on the sphinx rendered scikit-learn.org. See: https://github.com/scikit-learn/scikit-learn/issues/21755 */display: inline-block !important;position: relative;}#sk-container-id-1 div.sk-text-repr-fallback {display: none;}</style><div id=\"sk-container-id-1\" class=\"sk-top-container\"><div class=\"sk-text-repr-fallback\"><pre>LinearRegression()</pre><b>In a Jupyter environment, please rerun this cell to show the HTML representation or trust the notebook. <br />On GitHub, the HTML representation is unable to render, please try loading this page with nbviewer.org.</b></div><div class=\"sk-container\" hidden><div class=\"sk-item\"><div class=\"sk-estimator sk-toggleable\"><input class=\"sk-toggleable__control sk-hidden--visually\" id=\"sk-estimator-id-1\" type=\"checkbox\" checked><label for=\"sk-estimator-id-1\" class=\"sk-toggleable__label sk-toggleable__label-arrow\">LinearRegression</label><div class=\"sk-toggleable__content\"><pre>LinearRegression()</pre></div></div></div></div></div>"
      ],
      "text/plain": [
       "LinearRegression()"
      ]
     },
     "execution_count": 37,
     "metadata": {},
     "output_type": "execute_result"
    }
   ],
   "source": [
    "regr.fit(x, y)"
   ]
  },
  {
   "cell_type": "code",
   "execution_count": 39,
   "id": "8d535e69",
   "metadata": {},
   "outputs": [
    {
     "name": "stdout",
     "output_type": "stream",
     "text": [
      "w: \n",
      " [-0.20435426 -0.42470348 -0.42480945 -0.09116664 -0.55052336]\n",
      "b: \n",
      " -0.8193357938391433\n"
     ]
    }
   ],
   "source": [
    "print('w: \\n', regr.coef_)\n",
    "print('b: \\n', regr.intercept_)"
   ]
  },
  {
   "cell_type": "code",
   "execution_count": 44,
   "id": "38b0201d",
   "metadata": {},
   "outputs": [],
   "source": [
    "w=[]\n",
    "for value in regr.coef_:\n",
    "    w.append(round(value, 2))"
   ]
  },
  {
   "cell_type": "code",
   "execution_count": 72,
   "id": "0918ba9f",
   "metadata": {},
   "outputs": [
    {
     "name": "stdout",
     "output_type": "stream",
     "text": [
      "[-0.2, -0.42, -0.42, -0.09, -0.55]\n"
     ]
    }
   ],
   "source": [
    "print('w upto two decimal points: \\n',w)"
   ]
  },
  {
   "cell_type": "markdown",
   "id": "2ace583e",
   "metadata": {},
   "source": [
    "## Part-II: General case $x\\in \\mathbb{R}^n$\n"
   ]
  },
  {
   "cell_type": "markdown",
   "id": "888be881",
   "metadata": {},
   "source": [
    "$\\bullet$ Closed form solution:\n",
    "\n",
    "Error/cost function to be minimized over $w\\in\\mathbb{R}^5,\\ b\\in\\mathbb{R}$ is:-\n",
    "\n",
    "> $f(w,b)=\\frac{1}{m}\\sum_{i=0}^{m} (w^Tx_i+b-y_i)^2 = \\frac{1}{m}\\sum_{i=0}^{m} (\\sum_{j=0}^{n} w_j x_{ij}+b-y_i)^2$\n",
    "\n",
    "To minimize the cost function we take partial derivatives as:\n",
    "\n",
    "> $\\frac{\\partial f}{\\partial w_l}= \\frac{1}{2m}\\sum_{i=0}^{m}x_{li} (\\sum_{j=0}^{n} w_j x_{ij}+b-y_i)$\n",
    "\n",
    "> $\\frac{\\partial f}{\\partial b}= \\frac{1}{2m}\\sum_{i=0}^{m} (\\sum_{j=0}^{n} w_j x_{ij}+b-y_i)$\n",
    "\n"
   ]
  },
  {
   "cell_type": "markdown",
   "id": "73ccdadb",
   "metadata": {},
   "source": [
    "Using, $\\frac{\\partial f}{\\partial w_l}= \\frac{\\partial f}{\\partial b}=0$ and simplifying calculation yields,\n",
    "\n",
    "> $\\frac{\\partial f}{\\partial w_l}= \\frac{1}{2m}\\sum_{i=0}^{m}x_{li} (\\sum_{j=0}^{n} w_j x_{ji}+b-y_i)=0$\n",
    "\n",
    "> $\\frac{\\partial f}{\\partial w_l}= \\frac{1}{2m}(\\sum_{j=0}^{n}(\\sum_{i=0}^{m}x_{li}x_{ji})w_j)-\\frac{1}{2m}(\\sum_{1}^{m}x_{li}y_i)=0$\n",
    "\n",
    "Solving it is equivalent to solving m-linear equation in n-variables."
   ]
  },
  {
   "cell_type": "markdown",
   "id": "b24cb43a",
   "metadata": {},
   "source": [
    "> or, taking $\\sum_{i=1}^{m}x_{li}x_{ji}=A_{lj}$, and $\\sum_{i=1}^{m}x_{li}y_i=c_l$\n",
    "\n",
    "> $\\implies \\sum_{j=1}^{n}A_{lj}w_j-c_l$; $\\forall l\\in \\{1,...,n\\}$\n",
    "\n",
    "We can solve above system of equation using linear eqaution solver in python.\n",
    "> $\\textbf{Conclusion-1}$: In general, a system with the same number of equations and unknowns has a single unique solution."
   ]
  },
  {
   "cell_type": "markdown",
   "id": "ff17c550",
   "metadata": {},
   "source": [
    "$\\bullet$ If number of data points 'm' is less than the number of variable 'n'\n",
    "\n",
    "> $\\textbf{Conclusion-2}$: In this case $m>n$, also called undetermined system of equation. In general, a system with fewer equations than unknowns has infinitely many solutions, but it may have no solution.\n",
    "\n",
    "> Way to solve under-determines system: We can use Moore-Penrose inverse technique. It generalizes the idea of matrix inverse for non full-rank matrixes, which is the current case.\n"
   ]
  },
  {
   "cell_type": "code",
   "execution_count": null,
   "id": "8f56c3fb",
   "metadata": {},
   "outputs": [],
   "source": []
  },
  {
   "cell_type": "markdown",
   "id": "912ecb27",
   "metadata": {},
   "source": [
    "# Problem-5: Solution\n",
    "## Gradient descent with different learning rates"
   ]
  },
  {
   "cell_type": "code",
   "execution_count": 49,
   "id": "b413ce75",
   "metadata": {},
   "outputs": [],
   "source": [
    "#program = './mac_oracles/getDataPoints/getDataPoints'\n",
    "program = './pyfiles/dist/getGradient'\n",
    "argument = '21044'\n",
    "\n",
    "data_points = subprocess.run([program, argument, '0', '0'],stdout=subprocess.PIPE).stdout.decode(\"utf-8\")\n"
   ]
  },
  {
   "cell_type": "code",
   "execution_count": 56,
   "id": "06386a27",
   "metadata": {},
   "outputs": [],
   "source": [
    "dp=data_points.split('\\n')"
   ]
  },
  {
   "cell_type": "code",
   "execution_count": 71,
   "id": "5471b87c",
   "metadata": {},
   "outputs": [
    {
     "data": {
      "text/plain": [
       "'-0.8935079918, [-0.58971527, -0.3574032]'"
      ]
     },
     "execution_count": 71,
     "metadata": {},
     "output_type": "execute_result"
    }
   ],
   "source": [
    "(dp[0])"
   ]
  },
  {
   "cell_type": "code",
   "execution_count": null,
   "id": "83afdd81",
   "metadata": {},
   "outputs": [],
   "source": [
    "x1=0\n",
    "x2=0\n",
    "\n",
    "while "
   ]
  }
 ],
 "metadata": {
  "kernelspec": {
   "display_name": "Python 3 (ipykernel)",
   "language": "python",
   "name": "python3"
  },
  "language_info": {
   "codemirror_mode": {
    "name": "ipython",
    "version": 3
   },
   "file_extension": ".py",
   "mimetype": "text/x-python",
   "name": "python",
   "nbconvert_exporter": "python",
   "pygments_lexer": "ipython3",
   "version": "3.10.9"
  }
 },
 "nbformat": 4,
 "nbformat_minor": 5
}
