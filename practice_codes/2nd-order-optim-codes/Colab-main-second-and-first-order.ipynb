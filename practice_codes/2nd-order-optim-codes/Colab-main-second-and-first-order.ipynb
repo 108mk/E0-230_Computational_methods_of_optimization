{
  "cells": [
    {
      "cell_type": "code",
      "source": [
        "!unzip COLAB_CMO_A2.zip"
      ],
      "metadata": {
        "colab": {
          "base_uri": "https://localhost:8080/"
        },
        "id": "ZO5zQsP0PVFI",
        "outputId": "2d50ce32-67cc-4f4d-a6f1-6e37851502ad"
      },
      "execution_count": 1,
      "outputs": [
        {
          "output_type": "stream",
          "name": "stdout",
          "text": [
            "Archive:  COLAB_CMO_A2.zip\n",
            "  inflating: CMO_A2.py               \n",
            "   creating: pyarmor_runtime_000000/\n",
            "  inflating: pyarmor_runtime_000000/pyarmor_runtime.so  \n",
            "  inflating: pyarmor_runtime_000000/__init__.py  \n"
          ]
        }
      ]
    },
    {
      "cell_type": "code",
      "source": [
        "import numpy as np"
      ],
      "metadata": {
        "id": "YVKXnldvPU8E"
      },
      "execution_count": 2,
      "outputs": []
    },
    {
      "cell_type": "code",
      "source": [
        "import decimal"
      ],
      "metadata": {
        "id": "o-Jxjw0PbfES"
      },
      "execution_count": 30,
      "outputs": []
    },
    {
      "cell_type": "code",
      "source": [
        "import CMO_A2"
      ],
      "metadata": {
        "id": "SwspkcDzPU0q"
      },
      "execution_count": 3,
      "outputs": []
    },
    {
      "cell_type": "markdown",
      "source": [
        "###################### Problem-4 ####################\n",
        "####################################################\n",
        "\n"
      ],
      "metadata": {
        "id": "Rw8XCgaBvTdj"
      }
    },
    {
      "cell_type": "code",
      "source": [
        "E = np.identity(5)"
      ],
      "metadata": {
        "id": "HTvZPfUJVXm2"
      },
      "execution_count": 16,
      "outputs": []
    },
    {
      "cell_type": "code",
      "source": [
        "U = np.zeros((5,5))"
      ],
      "metadata": {
        "id": "WFUjmr4SVg1q"
      },
      "execution_count": 22,
      "outputs": []
    },
    {
      "cell_type": "code",
      "source": [
        "# initialize conjugate gradient u_0\n",
        "U[0] = E[0]\n"
      ],
      "metadata": {
        "id": "_GjvN-q0SkHI"
      },
      "execution_count": 23,
      "outputs": []
    },
    {
      "cell_type": "code",
      "source": [
        "# call oracle for Q-matrix\n",
        "\n",
        "Q = CMO_A2.oracle4(21044)"
      ],
      "metadata": {
        "id": "QmEF9mo7WBpA"
      },
      "execution_count": 24,
      "outputs": []
    },
    {
      "cell_type": "code",
      "source": [
        "Q"
      ],
      "metadata": {
        "colab": {
          "base_uri": "https://localhost:8080/"
        },
        "id": "B_PRGHuUSoBV",
        "outputId": "761b91dd-75a0-47b4-96e4-7b087fc0b1a5"
      },
      "execution_count": 25,
      "outputs": [
        {
          "output_type": "execute_result",
          "data": {
            "text/plain": [
              "array([[20., 17., 17., 17., 17.],\n",
              "       [17., 18., 17., 17., 17.],\n",
              "       [17., 17., 22., 17., 17.],\n",
              "       [17., 17., 17., 24., 17.],\n",
              "       [17., 17., 17., 17., 23.]])"
            ]
          },
          "metadata": {},
          "execution_count": 25
        }
      ]
    },
    {
      "cell_type": "code",
      "source": [
        "np.linalg.eig(Q)"
      ],
      "metadata": {
        "id": "L8bylzv7c810",
        "outputId": "be8e1b59-28d2-435f-8912-0de95d056dd7",
        "colab": {
          "base_uri": "https://localhost:8080/"
        }
      },
      "execution_count": 87,
      "outputs": [
        {
          "output_type": "execute_result",
          "data": {
            "text/plain": [
              "(array([89.45402241,  1.65768798,  3.78082332,  5.48806947,  6.61939682]),\n",
              " array([[ 0.43955389,  0.42696534,  0.7734406 , -0.13655903,  0.0873741 ],\n",
              "        [ 0.42961531, -0.87141734,  0.21717326, -0.07570479,  0.05627678],\n",
              "        [ 0.4499632 ,  0.17147433, -0.49535106, -0.6961475 ,  0.19528355],\n",
              "        [ 0.46087748,  0.10727953, -0.1876009 ,  0.22472484, -0.83089572],\n",
              "        [ 0.45535495,  0.13198515, -0.27213717,  0.6637001 ,  0.51056374]]))"
            ]
          },
          "metadata": {},
          "execution_count": 87
        }
      ]
    },
    {
      "cell_type": "code",
      "source": [
        "# loop to calculate sigma.\n",
        "\n",
        "for i in range(1, 5):\n",
        "  for j in range(i):\n",
        "    Num = ( ( np.transpose(E[i]).dot(Q) ).dot(U[j]) )\n",
        "    Den = ( ( np.transpose(U[j]).dot(Q) ).dot(U[j]) )\n",
        "    S = ( Num/Den ) * U[j]\n",
        "\n",
        "  U[i] = E[i] - S\n"
      ],
      "metadata": {
        "id": "_SHOklE-WQqQ"
      },
      "execution_count": 38,
      "outputs": []
    },
    {
      "cell_type": "code",
      "source": [
        "print('u_0:', U[0])\n",
        "print('u_1:', U[1])\n",
        "print('u_2:', U[2])\n",
        "print('u_3:', U[3])\n",
        "print('u_4:', U[4])"
      ],
      "metadata": {
        "colab": {
          "base_uri": "https://localhost:8080/"
        },
        "id": "0Y34jLeZWQ0y",
        "outputId": "2e2694de-2744-4ccb-90bb-970b507ac317"
      },
      "execution_count": 45,
      "outputs": [
        {
          "output_type": "stream",
          "name": "stdout",
          "text": [
            "u_0: [1. 0. 0. 0. 0.]\n",
            "u_1: [-0.85  1.    0.    0.    0.  ]\n",
            "u_2: [ 0.61056338 -0.71830986  1.          0.          0.        ]\n",
            "u_3: [-0.45919636  0.54023102 -0.75208632  1.          0.        ]\n",
            "u_4: [ 0.20392766 -0.2399149   0.33399917 -0.44409686  1.        ]\n"
          ]
        }
      ]
    },
    {
      "cell_type": "code",
      "source": [
        "########################### part-2 ###############"
      ],
      "metadata": {
        "id": "HaKJAtdopI77"
      },
      "execution_count": null,
      "outputs": []
    },
    {
      "cell_type": "code",
      "source": [
        "# quadratic form\n",
        "Q = CMO_A2.oracle4(21044)\n",
        "b = [2.0, 1.0, 0.0, 4.0, 4.0]\n",
        "\n",
        "# starting point\n",
        "x = [0.0, 0.0, 0.0, 0.0, 0.0]\n",
        "\n",
        "k = 1\n",
        "\n",
        "max_iter = 5\n",
        "\n",
        "while k <= max_iter:\n",
        "\n",
        "  num = b - Q.dot(x)\n",
        "  den = Q.dot(U[k-1])\n",
        "\n",
        "\n",
        "  alpha = np.transpose(U[k-1]).dot(num) / np.transpose(U[k-1]).dot(den)\n",
        "\n",
        "  x = x + alpha*U[k-1]\n",
        "  k = k + 1"
      ],
      "metadata": {
        "id": "VuhcspM0XGIY"
      },
      "execution_count": 84,
      "outputs": []
    },
    {
      "cell_type": "code",
      "source": [
        "print(x)"
      ],
      "metadata": {
        "id": "pLA4rM_tXGSY",
        "outputId": "9512f047-a6e8-49ae-ac2e-42e06fa2e060",
        "colab": {
          "base_uri": "https://localhost:8080/"
        }
      },
      "execution_count": 85,
      "outputs": [
        {
          "output_type": "stream",
          "name": "stdout",
          "text": [
            "[ 0.11678033 -0.01974156 -0.24702646  0.24952833  0.10033953]\n"
          ]
        }
      ]
    },
    {
      "cell_type": "code",
      "source": [
        "fx = (1/2)*np.transpose(x).dot(Q.dot(x)) - np.transpose(b).dot(x)"
      ],
      "metadata": {
        "id": "PEK8QUBXgDHJ"
      },
      "execution_count": 88,
      "outputs": []
    },
    {
      "cell_type": "code",
      "source": [
        "fx"
      ],
      "metadata": {
        "id": "efUABCNUXGjn",
        "outputId": "12ff3368-ecc0-4d6d-81ba-98f942ca4079",
        "colab": {
          "base_uri": "https://localhost:8080/"
        }
      },
      "execution_count": 89,
      "outputs": [
        {
          "output_type": "execute_result",
          "data": {
            "text/plain": [
              "-0.8523619068407263"
            ]
          },
          "metadata": {},
          "execution_count": 89
        }
      ]
    },
    {
      "cell_type": "code",
      "source": [
        "# quadratic form/function\n",
        "Q = CMO_A2.oracle4(21044)\n",
        "b = [2.0, 1.0, 0.0, 4.0, 4.0]\n",
        "\n",
        "# starting point\n",
        "x = [0.0, 0.0, 0.0, 0.0, 0.0]\n",
        "\n",
        "# while loop iterator\n",
        "k = 1\n",
        "max_iter = 5  # k_max = n = 5 as per eigenvectors of matrix Q\n",
        "\n",
        "# iteration searching the minima\n",
        "while k <= max_iter:\n",
        "\n",
        "    # helper variable to calculate step size alpha\n",
        "    num = b - Q.dot(x)  # numerator to calculate alpha step size\n",
        "    den = Q.dot(U[k-1]) # denominator to calculate alpha step size\n",
        "\n",
        "    # step size for progress\n",
        "    alpha = np.transpose(U[k-1]).dot(num) / np.transpose(U[k-1]).dot(den)\n",
        "\n",
        "    # iterative update for x\n",
        "    x = x + alpha*U[k-1]\n",
        "    k = k + 1\n",
        "\n",
        "\n",
        "fx = (1/2)*np.transpose(x).dot(Q.dot(x)) - np.transpose(b).dot(x)\n",
        "\n",
        "print('x_star:', x)\n",
        "print('fx_star:', round(fx, 9))\n"
      ],
      "metadata": {
        "id": "1afyrxPqgV5K",
        "outputId": "455e310f-31cb-492b-d7a5-13b637cdbcee",
        "colab": {
          "base_uri": "https://localhost:8080/"
        }
      },
      "execution_count": 91,
      "outputs": [
        {
          "output_type": "stream",
          "name": "stdout",
          "text": [
            "x_star: [ 0.11678033 -0.01974156 -0.24702646  0.24952833  0.10033953]\n",
            "fx_star: -0.852361907\n"
          ]
        }
      ]
    },
    {
      "cell_type": "code",
      "source": [
        "#define canonical co-ordiante axis\n",
        "E = np.identity(5)\n",
        "\n",
        "# MAtrix to store conjugate vectors in the matrix-row\n",
        "U = np.zeros((5,5))\n",
        "\n",
        "# initialize conjugate gradient u_0\n",
        "U[0] = E[0]\n",
        "\n",
        "# call oracle for Q-matrix\n",
        "\n",
        "Q = CMO_A2.oracle4(21044)\n",
        "\n",
        "#################### Part-I ##########################################\n",
        "\n",
        "# loop to calculate conjugate vectors\n",
        "\n",
        "for i in range(1, 5):\n",
        "  for j in range(i):\n",
        "    Num = ( ( np.transpose(E[i]).dot(Q) ).dot(U[j]) )\n",
        "    Den = ( ( np.transpose(U[j]).dot(Q) ).dot(U[j]) )\n",
        "    S = ( Num/Den ) * U[j]\n",
        "\n",
        "  U[i] = E[i] - S\n",
        "\n",
        "print('u_0:', U[0])\n",
        "print('u_1:', U[1])\n",
        "print('u_2:', U[2])\n",
        "print('u_3:', U[3])\n",
        "print('u_4:', U[4])"
      ],
      "metadata": {
        "id": "HGCpX2wNgWDm",
        "outputId": "c862802d-d510-42d7-c444-0c25ccbe311e",
        "colab": {
          "base_uri": "https://localhost:8080/"
        }
      },
      "execution_count": 92,
      "outputs": [
        {
          "output_type": "stream",
          "name": "stdout",
          "text": [
            "u_0: [1. 0. 0. 0. 0.]\n",
            "u_1: [-0.85  1.    0.    0.    0.  ]\n",
            "u_2: [ 0.61056338 -0.71830986  1.          0.          0.        ]\n",
            "u_3: [-0.45919636  0.54023102 -0.75208632  1.          0.        ]\n",
            "u_4: [ 0.20392766 -0.2399149   0.33399917 -0.44409686  1.        ]\n"
          ]
        }
      ]
    },
    {
      "cell_type": "code",
      "source": [],
      "metadata": {
        "id": "8ukEInWGgWHS"
      },
      "execution_count": null,
      "outputs": []
    },
    {
      "cell_type": "code",
      "source": [],
      "metadata": {
        "id": "RkrUKmyrgWJf"
      },
      "execution_count": null,
      "outputs": []
    },
    {
      "cell_type": "code",
      "source": [],
      "metadata": {
        "id": "9rTvPb7UgWN2"
      },
      "execution_count": null,
      "outputs": []
    },
    {
      "cell_type": "code",
      "source": [
        "###################### Problem-1 ####################\n",
        "####################################################"
      ],
      "metadata": {
        "id": "APj73_RCpJEt"
      },
      "execution_count": 81,
      "outputs": []
    },
    {
      "cell_type": "code",
      "source": [
        "# variables\n",
        "x = -1\n",
        "y = 1"
      ],
      "metadata": {
        "id": "9awdyfvfsYQj"
      },
      "execution_count": 46,
      "outputs": []
    },
    {
      "cell_type": "code",
      "source": [
        "# tolerance\n",
        "tol=1e-4\n",
        "\n",
        "# maximum oteration\n",
        "max_iter = 100"
      ],
      "metadata": {
        "id": "9eh5TBx2sYT1"
      },
      "execution_count": 47,
      "outputs": []
    },
    {
      "cell_type": "code",
      "source": [
        "# finding minima iteratively\n",
        "for i in range(max_iter):\n",
        "\n",
        "    r = (y + 2*x)/3\n",
        "    s = (2*y + x)/3\n",
        "\n",
        "    f_r = CMO_A2.oracle1(21044, r)\n",
        "    f_s = CMO_A2.oracle1(21044, s)\n",
        "\n",
        "    if f_r <= f_s:\n",
        "        x = x\n",
        "        y = s\n",
        "    else:\n",
        "        x = r\n",
        "        y = y\n",
        "\n",
        "    if (y-x) < tol:\n",
        "        break\n"
      ],
      "metadata": {
        "id": "jB6kgguRsYW5"
      },
      "execution_count": 48,
      "outputs": []
    },
    {
      "cell_type": "code",
      "source": [
        "print( 'num_iteration:', i )\n",
        "print( 'alpha_star:', round((x+y)/2, 9) )\n",
        "\n"
      ],
      "metadata": {
        "id": "jKq8ctsBsYZx",
        "outputId": "48a20189-b5cc-47f3-f321-31056dbb2a08",
        "colab": {
          "base_uri": "https://localhost:8080/"
        }
      },
      "execution_count": 51,
      "outputs": [
        {
          "output_type": "stream",
          "name": "stdout",
          "text": [
            "num_iteration: 24\n",
            "alpha_star: 0.058814359\n"
          ]
        }
      ]
    },
    {
      "cell_type": "code",
      "source": [
        "g_alpha_star = CMO_A2.oracle1( 21044, (x+y)/2 )\n",
        "print('g_alpha_star:', round(g_alpha_star, 9) )"
      ],
      "metadata": {
        "colab": {
          "base_uri": "https://localhost:8080/"
        },
        "id": "Xg6OJfDPpJQm",
        "outputId": "a9324cab-0df5-4425-b153-dc607f8e3828"
      },
      "execution_count": 52,
      "outputs": [
        {
          "output_type": "stream",
          "name": "stdout",
          "text": [
            "g_alpha_star: 17.81381861\n"
          ]
        }
      ]
    },
    {
      "cell_type": "code",
      "source": [],
      "metadata": {
        "id": "-x8UMM90tbQ4"
      },
      "execution_count": null,
      "outputs": []
    },
    {
      "cell_type": "markdown",
      "source": [
        "###################### Problem-3 ####################\n",
        "####################################################"
      ],
      "metadata": {
        "id": "xw8_x47yvaPw"
      }
    },
    {
      "cell_type": "code",
      "source": [
        "from numpy import linalg as LA\n"
      ],
      "metadata": {
        "id": "Gg22PL8ovcwj"
      },
      "execution_count": 55,
      "outputs": []
    },
    {
      "cell_type": "code",
      "source": [
        "x_0 = [0.0, 0.0, 0.0, 0.0, 0.0]"
      ],
      "metadata": {
        "id": "1UnAKkls3Tp5"
      },
      "execution_count": 56,
      "outputs": []
    },
    {
      "cell_type": "code",
      "source": [
        "def gradient_descent(x_0, alpha, tol, max_iter):\n",
        "\n",
        "    x = x_0\n",
        "\n",
        "    for i in range(max_iter):\n",
        "\n",
        "        fx, grad_fx = CMO_A2.oracle3(21044, x)\n",
        "        x = x - (alpha*grad_fx)\n",
        "\n",
        "        if LA.norm(grad_fx) < tol:\n",
        "            break\n",
        "\n",
        "    #print results\n",
        "    print('num_iteration:', i)\n",
        "    print('x_star:', x)\n",
        "    print('f_x_star:', round(fx, 9))\n",
        "\n",
        "    return None"
      ],
      "metadata": {
        "id": "88w-a8T-vdzk"
      },
      "execution_count": 64,
      "outputs": []
    },
    {
      "cell_type": "code",
      "source": [
        "gradient_descent(x_0, alpha=0.00004, tol=1e-4, max_iter=1000)"
      ],
      "metadata": {
        "id": "kJ3ZEO1pvd2M",
        "outputId": "39b9c897-2bf5-4e9a-fe10-2f6954ea513f",
        "colab": {
          "base_uri": "https://localhost:8080/"
        }
      },
      "execution_count": 65,
      "outputs": [
        {
          "output_type": "stream",
          "name": "stdout",
          "text": [
            "num_iteration: 27\n",
            "x_star: [0.00687022 0.00687022 0.00687022 0.00687022 0.00687022]\n",
            "f_x_star: 97.930285075\n"
          ]
        }
      ]
    },
    {
      "cell_type": "code",
      "source": [],
      "metadata": {
        "id": "p1YoVf198F8Z"
      },
      "execution_count": null,
      "outputs": []
    },
    {
      "cell_type": "code",
      "source": [
        "##############---- 3.2 ------------------"
      ],
      "metadata": {
        "id": "z_uDjMUb8GA4"
      },
      "execution_count": null,
      "outputs": []
    },
    {
      "cell_type": "code",
      "source": [
        "\n",
        "def acc_grad(x_0, theta=0.142, alpha=0.00004, tol=1e-4, max_iter=1000):\n",
        "\n",
        "    # variables and its initial value\n",
        "    x_cur = x_0\n",
        "    x_prev = x_0\n",
        "\n",
        "    y = (1+theta)*x_cur\n",
        "\n",
        "\n",
        "    for i in range(max_iter):\n",
        "\n",
        "        fy, grad_fy = CMO_A2.oracle3(21044, y)\n",
        "\n",
        "        x_cur = y - (alpha*grad_fy)\n",
        "\n",
        "        y = x_cur + ( theta*(x_cur - x_prev) )\n",
        "\n",
        "        x_prev = x_cur\n",
        "\n",
        "        if LA.norm(grad_fy) < tol:\n",
        "            break\n",
        "\n",
        "    #print results\n",
        "    print('num_iteration:', i)\n",
        "    print('x_star:', x_cur)\n",
        "\n",
        "    fx_cur, grad_fx_cur = CMO_A2.oracle3(21044, x_cur)\n",
        "    print('f_x_star:', round(fx_cur, 9))\n",
        "\n",
        "    return None\n"
      ],
      "metadata": {
        "id": "bNMtsQVo8GFM"
      },
      "execution_count": 74,
      "outputs": []
    },
    {
      "cell_type": "code",
      "source": [
        "x_0 = np.array([0.0, 0.0, 0.0, 0.0, 0.0])\n",
        "\n",
        "acc_grad(x_0, theta=0.142, alpha=0.00004, tol=1e-4, max_iter=1000)"
      ],
      "metadata": {
        "id": "LUfM41428GJE",
        "outputId": "44e73a02-f02b-469b-ac73-10be2159ed8f",
        "colab": {
          "base_uri": "https://localhost:8080/"
        }
      },
      "execution_count": 75,
      "outputs": [
        {
          "output_type": "stream",
          "name": "stdout",
          "text": [
            "num_iteration: 21\n",
            "x_star: [0.00687022 0.00687022 0.00687022 0.00687022 0.00687022]\n",
            "f_x_star: 97.930285075\n"
          ]
        }
      ]
    },
    {
      "cell_type": "code",
      "source": [
        "import numpy as np\n",
        "from numpy import linalg as LA\n",
        "\n",
        "import CMO_A2\n",
        "\n",
        "########################## GRADIENT DESCENT ##################################\n",
        "\n",
        "# initial point\n",
        "x_0 = [0.0, 0.0, 0.0, 0.0, 0.0]\n",
        "\n",
        "# iterative gradient descent\n",
        "\n",
        "def gradient_descent(x_0, alpha, tol, max_iter):\n",
        "\n",
        "    x = x_0\n",
        "\n",
        "    for i in range(max_iter):\n",
        "\n",
        "        fx, grad_fx = CMO_A2.oracle3(21044, x)\n",
        "        x = x - (alpha*grad_fx)\n",
        "\n",
        "        if LA.norm(grad_fx) < tol:\n",
        "            break\n",
        "\n",
        "    #print results\n",
        "    print('num_iteration:', i)\n",
        "    print('x_star:', x)\n",
        "    print('f_x_star:', round(fx, 9))\n",
        "\n",
        "    return None\n",
        "\n",
        "# call function: it prints num_iteration, x and fx. It returns None.\n",
        "\n",
        "gradient_descent(x_0, alpha=0.00004, tol=1e-4, max_iter=1000)\n",
        "\n",
        "\n",
        "########################## ACC. GRADIENT DESCENT #############################\n",
        "\n",
        "def acc_grad_descent(x_0, theta=0.142, alpha=0.00004, tol=1e-4, max_iter=1000):\n",
        "\n",
        "    # variables and its initial value\n",
        "    x_cur = x_0\n",
        "    x_prev = x_0\n",
        "\n",
        "    y = (1+theta)*x_cur\n",
        "\n",
        "\n",
        "    for i in range(max_iter):\n",
        "\n",
        "        fy, grad_fy = CMO_A2.oracle3(21044, y)\n",
        "\n",
        "        x_cur = y - (alpha*grad_fy)\n",
        "\n",
        "        y = x_cur + ( theta*(x_cur - x_prev) )\n",
        "\n",
        "        x_prev = x_cur\n",
        "\n",
        "        if LA.norm(grad_fy) < tol:\n",
        "            break\n",
        "\n",
        "    #print results\n",
        "    print('num_iteration:', i)\n",
        "    print('x_star:', x_cur)\n",
        "\n",
        "    fx_cur, grad_fx_cur = CMO_A2.oracle3(21044, x_cur)\n",
        "    print('f_x_star:', round(fx_cur, 9))\n",
        "\n",
        "    return None\n",
        "\n",
        "# call function: it prints num_iteration, x and fx. It returns None.\n",
        "\n",
        "x_0 = np.array([0.0, 0.0, 0.0, 0.0, 0.0])\n",
        "\n",
        "acc_grad_descent(x_0, theta=0.142, alpha=0.00004, tol=1e-4, max_iter=1000)\n",
        "\n"
      ],
      "metadata": {
        "id": "eBStViM7vd5j",
        "outputId": "51e1bb11-1d95-4166-eed0-63003dbb93cb",
        "colab": {
          "base_uri": "https://localhost:8080/"
        }
      },
      "execution_count": 78,
      "outputs": [
        {
          "output_type": "stream",
          "name": "stdout",
          "text": [
            "num_iteration: 27\n",
            "x_star: [0.00687022 0.00687022 0.00687022 0.00687022 0.00687022]\n",
            "f_x_star: 97.930285075\n",
            "num_iteration: 21\n",
            "x_star: [0.00687022 0.00687022 0.00687022 0.00687022 0.00687022]\n",
            "f_x_star: 97.930285075\n"
          ]
        }
      ]
    },
    {
      "cell_type": "code",
      "source": [
        "###################### Problem-1 ####################\n",
        "####################################################"
      ],
      "metadata": {
        "id": "muLeRm6-vd7b"
      },
      "execution_count": 82,
      "outputs": []
    },
    {
      "cell_type": "code",
      "source": [
        "import numpy as np\n",
        "import CMO_A2\n",
        "\n",
        "# variables\n",
        "x = -1\n",
        "y = 1\n",
        "\n",
        "# tolerance\n",
        "tol=1e-4\n",
        "\n",
        "# maximum oteration\n",
        "max_iter = 100\n",
        "\n",
        "# finding minima iteratively\n",
        "for i in range(max_iter):\n",
        "\n",
        "    r = (y+2*x)/3\n",
        "    s = (2*y+x)/3\n",
        "\n",
        "    f_r = CMO_A2.oracle1(21044, r)\n",
        "    f_s = CMO_A2.oracle1(21044, s)\n",
        "\n",
        "    if f_r <= f_s:\n",
        "        x = x\n",
        "        y = s\n",
        "    else:\n",
        "        x = r\n",
        "        y = y\n",
        "\n",
        "    if (y-x) < tol:\n",
        "        break\n",
        "\n",
        "\n",
        "# Output results\n",
        "print( 'num_iteration:', i )\n",
        "print( 'alpha_star:', round((x+y)/2, 9) )\n",
        "\n",
        "g_alpha_star = CMO_A2.oracle1( 21044, (x+y)/2 )\n",
        "print('g_alpha_star:', round(g_alpha_star, 9) )"
      ],
      "metadata": {
        "id": "nF2VSVAt8eSf",
        "outputId": "aef37d0f-f35e-4c0e-e02d-226a5ff899aa",
        "colab": {
          "base_uri": "https://localhost:8080/"
        }
      },
      "execution_count": 80,
      "outputs": [
        {
          "output_type": "stream",
          "name": "stdout",
          "text": [
            "num_iteration: 24\n",
            "alpha_star: 0.058814359\n",
            "g_alpha_star: 17.81381861\n"
          ]
        }
      ]
    },
    {
      "cell_type": "code",
      "source": [],
      "metadata": {
        "id": "xsml1VgV8eVo"
      },
      "execution_count": null,
      "outputs": []
    },
    {
      "cell_type": "code",
      "source": [
        "########################### problem-2 #######################\n",
        "#############################################################"
      ],
      "metadata": {
        "id": "pz8LOWgM8eas"
      },
      "execution_count": null,
      "outputs": []
    },
    {
      "cell_type": "code",
      "source": [
        "\n"
      ],
      "metadata": {
        "id": "k3BA406h8ez_"
      },
      "execution_count": 93,
      "outputs": []
    },
    {
      "cell_type": "code",
      "source": [
        "import numpy as np\n",
        "\n",
        "import CMO_A2\n",
        "\n",
        "# function and its derivatives\n",
        "def f_2(x):\n",
        "    return  2/( (1+2*x**2)**(3/2) )\n",
        "def f_1(x):\n",
        "    return 2*x/( (1+2*x**2)**(1/2) )\n",
        "def f(x):\n",
        "    return ( 1 + 2*x**2 )**(1/2)\n",
        "\n",
        "# parameters for back tracking\n",
        "beta = 0.9\n",
        "c = 0.1\n",
        "\n",
        "# initial step-size alpha\n",
        "alpha = 1\n",
        "tol = 0.0001\n",
        "\n",
        "# backtracking to find suitable step-size alpha\n",
        "k =1 # counter\n",
        "\n",
        "# initial point\n",
        "x = 1\n",
        "while abs(f_1(x)) > tol:\n",
        "    d = -( ( f_2(x) )**(-1) )*(f_1(x))\n",
        "    alpha = 1\n",
        "\n",
        "    while f(x + alpha*d) > f(x) + c*alpha*f_1(x)*d:\n",
        "        alpha = beta*alpha\n",
        "\n",
        "    x = x + alpha*d\n",
        "    k = k+1\n",
        "\n",
        "# final outputs\n",
        "print('x_final:', round(x, 9))\n",
        "print('x_final:', x)\n",
        "print('num_iteration(k):', k)"
      ],
      "metadata": {
        "id": "-mfjdLcAqexZ",
        "outputId": "a6279556-b46c-4554-8a59-3757061c4e88",
        "colab": {
          "base_uri": "https://localhost:8080/"
        }
      },
      "execution_count": 105,
      "outputs": [
        {
          "output_type": "stream",
          "name": "stdout",
          "text": [
            "x_final: 8.12e-07\n",
            "x_final: 8.123322162356325e-07\n",
            "num_iteration(k): 7\n"
          ]
        }
      ]
    },
    {
      "cell_type": "code",
      "source": [],
      "metadata": {
        "id": "25Ix1Ordqe09",
        "outputId": "4e74dd43-4f80-42ac-cd6b-5a83612f6653",
        "colab": {
          "base_uri": "https://localhost:8080/"
        }
      },
      "execution_count": 103,
      "outputs": [
        {
          "output_type": "stream",
          "name": "stdout",
          "text": [
            "x_final: 8.12e-07\n",
            "x_final: 8.123322162356325e-07\n",
            "num_iteration(k): 7\n"
          ]
        }
      ]
    },
    {
      "cell_type": "code",
      "source": [],
      "metadata": {
        "id": "Gsv787Sfqe28"
      },
      "execution_count": null,
      "outputs": []
    }
  ],
  "metadata": {
    "colab": {
      "name": "Welcome to Colaboratory",
      "provenance": []
    },
    "kernelspec": {
      "display_name": "Python 3",
      "name": "python3"
    }
  },
  "nbformat": 4,
  "nbformat_minor": 0
}